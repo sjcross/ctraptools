{
 "cells": [
  {
   "cell_type": "code",
   "execution_count": 1,
   "metadata": {},
   "outputs": [],
   "source": [
    "# Imports\n",
    "from ctraptools.kymos.detect import Detector\n",
    "from lumicks import pylake\n",
    "\n",
    "import ctraptools.kymos.io as kio\n",
    "import matplotlib.pyplot as plt\n",
    "import numpy as np\n",
    "import tifffile"
   ]
  },
  {
   "cell_type": "code",
   "execution_count": 2,
   "metadata": {},
   "outputs": [],
   "source": [
    "# Parameters\n",
    "filepath = \"/Users/sc13967/Documents/People/Alex Hughes-Games/2023-12-11 Binding rebinding/EcoP15I sliding diffusion/\"\n",
    "filename = \"20230512-150855 Kymograph 4 into 4 mM ATP sliding\"\n",
    "extension = \"h5\"\n",
    "channel = 0"
   ]
  },
  {
   "cell_type": "code",
   "execution_count": 3,
   "metadata": {},
   "outputs": [],
   "source": [
    "# Getting kymograph image\n",
    "file = pylake.File(filepath+filename+\".\"+extension)\n",
    "kymo = next(iter(file.kymos.values()))\n",
    "image = kymo.get_image()[:,700:6000,channel]\n",
    "tifffile.imwrite(\n",
    "            filepath+filename+\"_raw.tif\", \n",
    "            kymo.get_image().astype(np.single)\n",
    "        )\n"
   ]
  },
  {
   "cell_type": "code",
   "execution_count": 4,
   "metadata": {},
   "outputs": [
    {
     "name": "stderr",
     "output_type": "stream",
     "text": [
      "100%|██████████| 5300/5300 [00:15<00:00, 343.18it/s]\n"
     ]
    }
   ],
   "source": [
    "# Detecting tracks\n",
    "detector = Detector(half_t_w=0,peak_det_thresh = 12, n_max=5, c_ub=6, c_def=4, max_dist=6,max_frame_gap=50, min_track_length = 100, min_track_density=0.5, track_heritage_weight=100)\n",
    "tracks = detector.detect(image)"
   ]
  },
  {
   "cell_type": "code",
   "execution_count": 5,
   "metadata": {},
   "outputs": [],
   "source": [
    "# Saving files\n",
    "kio.write_peak_traces(tracks,filepath+filename+'_C'+str(channel)+\"_traces\")\n",
    "kio.save_overlay(tracks,image,filepath+filename+'_C'+str(channel)+\"_overlay\")\n"
   ]
  },
  {
   "cell_type": "code",
   "execution_count": 6,
   "metadata": {},
   "outputs": [],
   "source": [
    "# Estimating noise in position\n",
    "track = next(tracks.values().__iter__())\n",
    "\n",
    "x = track.get_positions()[0:1000]\n",
    "\n",
    "x_std = np.std(x)"
   ]
  },
  {
   "cell_type": "code",
   "execution_count": 7,
   "metadata": {},
   "outputs": [],
   "source": [
    "link_dist = 2\n",
    "\n",
    "for track in tracks.values():\n",
    "    counts = np.zeros(image.shape)\n",
    "\n",
    "    for curr_timepoint, curr_peak in sorted(list(track.peaks.items()), reverse=True):\n",
    "        curr_position = curr_peak.b\n",
    "\n",
    "        # Comparing to all other peaks in this track\n",
    "        for prev_timepoint, prev_peak in sorted(list(track.peaks.items()), reverse=True):\n",
    "            prev_position = prev_peak.b\n",
    "\n",
    "            # Only process peaks from earlir timepoints\n",
    "            if prev_timepoint >= curr_timepoint:\n",
    "                continue\n",
    "\n",
    "            timepoint_separation = curr_timepoint - prev_timepoint\n",
    "            position_separation = abs(curr_position-prev_position)\n",
    "\n",
    "            if position_separation < link_dist:\n",
    "                counts[round(curr_position),timepoint_separation] = counts[round(curr_position),timepoint_separation] + 1\n",
    "            else:\n",
    "                # Once the peak has moved out of the linking range, stop recording history\n",
    "                break\n",
    "\n",
    "    for f in range(image.shape[1]):\n",
    "        for x in range(image.shape[0]):\n",
    "            if counts[x,f] > 0:\n",
    "                counts[x,f] = counts[x,f] / (max(track.peaks.keys())-min(track.peaks.keys())-f-1)\n",
    "                # counts[x,f] = counts[x,f] / (image.shape[1]-f-1)\n",
    "\n",
    "    tifffile.imwrite(\n",
    "            filepath+filename+\"_track\"+str(track.ID)+\"_counts.tif\", \n",
    "            counts.astype(np.single)\n",
    "        )\n",
    "    "
   ]
  }
 ],
 "metadata": {
  "kernelspec": {
   "display_name": ".venv",
   "language": "python",
   "name": "python3"
  },
  "language_info": {
   "codemirror_mode": {
    "name": "ipython",
    "version": 3
   },
   "file_extension": ".py",
   "mimetype": "text/x-python",
   "name": "python",
   "nbconvert_exporter": "python",
   "pygments_lexer": "ipython3",
   "version": "3.9.6"
  }
 },
 "nbformat": 4,
 "nbformat_minor": 2
}
