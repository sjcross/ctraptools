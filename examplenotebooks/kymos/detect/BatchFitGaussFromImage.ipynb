{
 "cells": [
  {
   "cell_type": "code",
   "execution_count": null,
   "metadata": {},
   "outputs": [],
   "source": [
    "from ctraptools.kymos.detect import Detector\n",
    "from lumicks import pylake\n",
    "\n",
    "import ctraptools.kymos.io as kio\n",
    "# import ctraptools.kymos.stepfinding as ksf\n",
    "import os"
   ]
  },
  {
   "cell_type": "code",
   "execution_count": null,
   "metadata": {},
   "outputs": [],
   "source": [
    "# Parameters\n",
    "path = \"\"\n",
    "channel = 0"
   ]
  },
  {
   "cell_type": "code",
   "execution_count": null,
   "metadata": {},
   "outputs": [],
   "source": [
    "# Function to process single image\n",
    "def process_image(image,channel,output_name):\n",
    "    # Initialising Detector\n",
    "    detector = Detector(half_t_w=3,peak_det_thresh = 0.06, n_max=10, c_ub=5, c_def=3, min_track_length = 10, track_heritage_weight=100)\n",
    "\n",
    "    # Detect peaks and track\n",
    "    tracks = detector.detect(image)\n",
    "\n",
    "    # Measuring intensity\n",
    "    for track in tracks.values():\n",
    "        track.measure_intensity(image)\n",
    "    \n",
    "    # # Step fitting (to be added later)\n",
    "    # ksf.fit_steps(tracks,image)\n",
    "\n",
    "    # Saving files\n",
    "    kio.save_overlay(tracks,image,output_name+\"_overlay\")\n",
    "    kio.write_traces(tracks,output_name+\"_traces\")\n",
    "    kio.save_plots(tracks,output_name+\"_traces\")\n",
    "    kio.write_change_points(tracks,output_name+'_steps')"
   ]
  },
  {
   "cell_type": "code",
   "execution_count": null,
   "metadata": {},
   "outputs": [],
   "source": [
    "# Loading image and calculating paths\n",
    "for f in os.listdir(path):\n",
    "    name = os.path.basename(os.path.splitext(f)[0])\n",
    "    if os.path.splitext(f)[1] == \".tif\":\n",
    "        image = kio.read_image(path+f,channel,x_range=None)\n",
    "        output_name = path+name+'_C'+str(channel)\n",
    "        process_image(image, channel, output_name)\n",
    "    elif os.path.splitext(f)[1] == \".h5\" or os.path.splitext(f)[1] == \".hdf5\":\n",
    "        file = pylake.File(path+f)\n",
    "        for (idx,kymo) in enumerate(file.kymos.values()):\n",
    "            image = kymo.get_image()[:,:,channel]\n",
    "            output_name = path+name+'_C'+str(channel)+'_kymo'+str(idx+1)\n",
    "            process_image(image, channel, output_name)        \n",
    "    else:\n",
    "        continue"
   ]
  },
  {
   "cell_type": "code",
   "execution_count": null,
   "metadata": {},
   "outputs": [],
   "source": []
  }
 ],
 "metadata": {
  "kernelspec": {
   "display_name": "Python 3 (ipykernel)",
   "language": "python",
   "name": "python3"
  },
  "language_info": {
   "codemirror_mode": {
    "name": "ipython",
    "version": 3
   },
   "file_extension": ".py",
   "mimetype": "text/x-python",
   "name": "python",
   "nbconvert_exporter": "python",
   "pygments_lexer": "ipython3",
   "version": "3.9.6"
  },
  "vscode": {
   "interpreter": {
    "hash": "486ff05d83518e025ba7bfd79171561104bf3a51483b9d02eb0981ebbfc72f1c"
   }
  }
 },
 "nbformat": 4,
 "nbformat_minor": 2
}
