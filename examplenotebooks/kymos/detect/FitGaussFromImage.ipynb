{
 "cells": [
  {
   "cell_type": "code",
   "execution_count": null,
   "metadata": {},
   "outputs": [],
   "source": [
    "from ctraptools.kymos.detect import Detector\n",
    "from lumicks import pylake\n",
    "\n",
    "import ctraptools.kymos.stepfinding as ksf\n",
    "import ctraptools.kymos.io as kio\n",
    "import os"
   ]
  },
  {
   "cell_type": "code",
   "execution_count": null,
   "metadata": {},
   "outputs": [],
   "source": [
    "# Parameters\n",
    "path = \"C:\\\\Users\\\\steph\\\\Documents\\\\People\\\\CTrapTools\\\\20220616-150818 Kymograph 7.h5\"\n",
    "channel = 0"
   ]
  },
  {
   "cell_type": "code",
   "execution_count": null,
   "metadata": {},
   "outputs": [],
   "source": [
    "# Loading kymograph as imagee\n",
    "file = pylake.File(path)\n",
    "kymo = next(iter(file.kymos.values()))\n",
    "image = kymo.get_image()[:,:,channel]\n",
    "\n",
    "rootpath = os.path.dirname(path)+'/'\n",
    "rootname = os.path.basename(os.path.splitext(path)[0])"
   ]
  },
  {
   "cell_type": "code",
   "execution_count": null,
   "metadata": {},
   "outputs": [],
   "source": [
    "# Initialising Detector\n",
    "detector = Detector(half_t_w=5,peak_det_thresh = 2, n_max=10, c_ub=5, c_def=3, min_track_length = 10)"
   ]
  },
  {
   "cell_type": "code",
   "execution_count": null,
   "metadata": {},
   "outputs": [],
   "source": [
    "# (Optional) Testing fit parameters\n",
    "fr = 161\n",
    "peaks = detector.fit_peaks(image,fr)\n",
    "kio.plot_gauss_for_frame(peaks,fr,image)"
   ]
  },
  {
   "cell_type": "code",
   "execution_count": null,
   "metadata": {},
   "outputs": [],
   "source": [
    "# Detect peaks and track\n",
    "tracks = detector.detect(image)"
   ]
  },
  {
   "cell_type": "code",
   "execution_count": null,
   "metadata": {},
   "outputs": [],
   "source": [
    "# Measuring intensity\n",
    "for track in tracks.values():\n",
    "    track.measure_intensity(image)\n",
    "\n",
    "# Step fitting (to be added later)\n",
    "# ksf.fit_steps(tracks,image)\n",
    "\n",
    "# Saving files\n",
    "kio.save_overlay(tracks,image,rootpath+rootname+'_C'+str(channel)+\"_overlay\")\n",
    "kio.write_traces(tracks,rootpath+rootname+'_C'+str(channel)+\"_traces\")\n",
    "kio.save_plots(tracks,rootpath+rootname+'_C'+str(channel)+\"_traces\")\n",
    "# kio.write_change_points(tracks,rootpath+rootname+'_C'+str(channel)+'_steps')"
   ]
  },
  {
   "cell_type": "code",
   "execution_count": null,
   "metadata": {},
   "outputs": [],
   "source": []
  }
 ],
 "metadata": {
  "kernelspec": {
   "display_name": "pylake",
   "language": "python",
   "name": "python3"
  },
  "language_info": {
   "codemirror_mode": {
    "name": "ipython",
    "version": 3
   },
   "file_extension": ".py",
   "mimetype": "text/x-python",
   "name": "python",
   "nbconvert_exporter": "python",
   "pygments_lexer": "ipython3",
   "version": "3.10.5"
  },
  "vscode": {
   "interpreter": {
    "hash": "486ff05d83518e025ba7bfd79171561104bf3a51483b9d02eb0981ebbfc72f1c"
   }
  }
 },
 "nbformat": 4,
 "nbformat_minor": 2
}
