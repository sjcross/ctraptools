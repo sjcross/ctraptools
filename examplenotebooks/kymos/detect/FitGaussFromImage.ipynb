{
 "cells": [
  {
   "cell_type": "code",
   "execution_count": null,
   "metadata": {},
   "outputs": [],
   "source": [
    "from ctraptools.kymos.detect import Detector\n",
    "\n",
    "import ctraptools.kymos.stepfinding as ksf\n",
    "import ctraptools.kymos.io as kio\n",
    "import os\n"
   ]
  },
  {
   "cell_type": "code",
   "execution_count": null,
   "metadata": {},
   "outputs": [],
   "source": [
    "# Parameters\n",
    "path = \"C:/Users/steph/Documents/People/Gemma Fisher/2022-09-01 Kymograph analysis/1a_Yeast cohesin - binding in 125 mM KGlu with DNA relaxed/20220615-113723 Kymograph 7_kymograph0_S1_crop.tif\"\n",
    "channel = 0"
   ]
  },
  {
   "cell_type": "code",
   "execution_count": null,
   "metadata": {},
   "outputs": [],
   "source": [
    "# Loading image and calculating paths\n",
    "image = kio.read_mage(path,channel,x_range=(0,100))\n",
    "    \n",
    "rootpath = os.path.dirname(path)+'/'\n",
    "rootname = os.path.basename(os.path.splitext(path)[0])"
   ]
  },
  {
   "cell_type": "code",
   "execution_count": null,
   "metadata": {},
   "outputs": [],
   "source": [
    "# Initialising Detector\n",
    "detector = Detector(half_t_w=5,peak_det_thresh = 2, n_max=10, c_ub=5, c_def=3)"
   ]
  },
  {
   "cell_type": "code",
   "execution_count": null,
   "metadata": {},
   "outputs": [],
   "source": [
    "# (Optional) Testing fit parameters\n",
    "fr = 161\n",
    "peaks = detector.fitPeaks(image,fr)\n",
    "kio.plot_gauss_for_frame(peaks,fr,image)"
   ]
  },
  {
   "cell_type": "code",
   "execution_count": null,
   "metadata": {},
   "outputs": [],
   "source": [
    "# Detect peaks and track\n",
    "tracks = detector.detect(image)"
   ]
  },
  {
   "cell_type": "code",
   "execution_count": null,
   "metadata": {},
   "outputs": [],
   "source": [
    "# Step fitting\n",
    "ksf.fit_steps(tracks,image)\n",
    "\n",
    "# Saving files\n",
    "kio.save_overlay(tracks,image,rootpath+rootname+'_C'+str(channel)+\"_overlay\")\n",
    "kio.write_change_points(tracks,rootpath+rootname+'_C'+str(channel)+'_steps')\n",
    "kio.write_traces(tracks,rootpath+rootname+'_C'+str(channel)+\"_traces\")\n",
    "kio.save_plots(tracks,rootpath+rootname+'_C'+str(channel)+\"_traces\")"
   ]
  }
 ],
 "metadata": {
  "kernelspec": {
   "display_name": "Python 3.10.8 64-bit (microsoft store)",
   "language": "python",
   "name": "python3"
  },
  "language_info": {
   "codemirror_mode": {
    "name": "ipython",
    "version": 3
   },
   "file_extension": ".py",
   "mimetype": "text/x-python",
   "name": "python",
   "nbconvert_exporter": "python",
   "pygments_lexer": "ipython3",
   "version": "3.10.9 (tags/v3.10.9:1dd9be6, Dec  6 2022, 20:01:21) [MSC v.1934 64 bit (AMD64)]"
  },
  "vscode": {
   "interpreter": {
    "hash": "c3821546bbc1e8de8e6c0f199ccce536a06ca7aa9901fae8d08bf530e922397f"
   }
  }
 },
 "nbformat": 4,
 "nbformat_minor": 2
}
