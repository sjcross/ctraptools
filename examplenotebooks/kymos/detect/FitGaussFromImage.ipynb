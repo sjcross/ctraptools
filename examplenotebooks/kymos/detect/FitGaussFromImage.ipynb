{
 "cells": [
  {
   "cell_type": "code",
   "execution_count": null,
   "metadata": {},
   "outputs": [],
   "source": [
    "from ctraptools.kymos.detect import Detector\n",
    "from lumicks import pylake\n",
    "\n",
    "import ctraptools.kymos.stepfinding as ksf\n",
    "import ctraptools.kymos.io as kio\n",
    "import os"
   ]
  },
  {
   "cell_type": "code",
   "execution_count": null,
   "metadata": {},
   "outputs": [],
   "source": [
    "# Parameters\n",
    "path = \"\"\n",
    "channel = 0"
   ]
  },
  {
   "cell_type": "code",
   "execution_count": null,
   "metadata": {},
   "outputs": [],
   "source": [
    "# Loading kymograph as image\n",
    "if os.path.splitext(path)[1] == \".tif\":\n",
    "    image = kio.read_image(path,channel,x_range=None)\n",
    "elif os.path.splitext(path)[1] == \".h5\" or os.path.splitext(path)[1] == \".hdf5\":\n",
    "    file = pylake.File(path)\n",
    "    kymo = next(iter(file.kymos.values()))\n",
    "    image = kymo.get_image()[:,:,channel]\n",
    "\n",
    "rootpath = os.path.dirname(path)+'/'\n",
    "rootname = os.path.basename(os.path.splitext(path)[0])"
   ]
  },
  {
   "cell_type": "code",
   "execution_count": null,
   "metadata": {},
   "outputs": [],
   "source": [
    "# (Optional) Cropping the image in the x-axis\n",
    "# image = image[:,12:400]"
   ]
  },
  {
   "cell_type": "code",
   "execution_count": null,
   "metadata": {},
   "outputs": [],
   "source": [
    "# Initialising Detector\n",
    "half_t_w = 0\n",
    "detector = Detector(half_t_w=half_t_w,peak_det_thresh = 0.3, n_max=10, c_lb=2, c_ub=7, c_def=3, max_dist=15,min_track_length = 10, track_heritage_weight=100, )"
   ]
  },
  {
   "cell_type": "code",
   "execution_count": null,
   "metadata": {},
   "outputs": [],
   "source": [
    "# (Optional) Testing fit parameters\n",
    "fr = 10\n",
    "peaks = detector.fit_peaks(image,fr)\n",
    "kio.plot_gauss_for_frame(peaks,fr,image,half_t_w=half_t_w)"
   ]
  },
  {
   "cell_type": "code",
   "execution_count": null,
   "metadata": {},
   "outputs": [],
   "source": [
    "# Detect peaks and track\n",
    "tracks = detector.detect(image)"
   ]
  },
  {
   "cell_type": "code",
   "execution_count": null,
   "metadata": {},
   "outputs": [],
   "source": [
    "# Measuring intensity\n",
    "for track in tracks.values():\n",
    "    track.measure_intensity(image)\n",
    "\n",
    "# Step fitting (to be added later)\n",
    "# ksf.fit_steps(tracks,image)\n",
    "\n",
    "# Saving files\n",
    "kio.save_overlay(tracks,image,rootpath+rootname+'_C'+str(channel)+\"_overlay\")\n",
    "kio.write_peak_traces(tracks,rootpath+rootname+'_C'+str(channel)+\"_traces\")\n",
    "kio.save_plots(tracks,rootpath+rootname+'_C'+str(channel)+\"_traces\")\n",
    "kio.write_change_points(tracks,rootpath+rootname+'_C'+str(channel)+'_steps')"
   ]
  },
  {
   "cell_type": "code",
   "execution_count": null,
   "metadata": {},
   "outputs": [],
   "source": []
  },
  {
   "cell_type": "code",
   "execution_count": null,
   "metadata": {},
   "outputs": [],
   "source": []
  }
 ],
 "metadata": {
  "kernelspec": {
   "display_name": "Python 3 (ipykernel)",
   "language": "python",
   "name": "python3"
  },
  "language_info": {
   "codemirror_mode": {
    "name": "ipython",
    "version": 3
   },
   "file_extension": ".py",
   "mimetype": "text/x-python",
   "name": "python",
   "nbconvert_exporter": "python",
   "pygments_lexer": "ipython3",
   "version": "3.9.6"
  },
  "vscode": {
   "interpreter": {
    "hash": "486ff05d83518e025ba7bfd79171561104bf3a51483b9d02eb0981ebbfc72f1c"
   }
  }
 },
 "nbformat": 4,
 "nbformat_minor": 4
}
