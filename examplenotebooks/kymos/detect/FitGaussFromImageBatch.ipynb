{
 "cells": [
  {
   "cell_type": "code",
   "execution_count": null,
   "metadata": {},
   "outputs": [],
   "source": [
    "from ctraptools.kymos.detect import Detector\n",
    "\n",
    "import ctraptools.kymos.io as kio\n",
    "import ctraptools.kymos.stepfitting as ksf\n",
    "import numpy as np\n",
    "import os\n",
    "import matplotlib.pyplot as plt"
   ]
  },
  {
   "cell_type": "code",
   "execution_count": null,
   "metadata": {},
   "outputs": [],
   "source": [
    "# Parameters\n",
    "path = \"C:/Users/steph/Documents/People/Gemma Fisher/2022-09-01 Kymograph analysis/3a_Yeast cohesin - binding in 50 mM NaCl with DNA relaxed/\"\n",
    "channel = 0"
   ]
  },
  {
   "cell_type": "code",
   "execution_count": null,
   "metadata": {},
   "outputs": [],
   "source": [
    "# Loading image and calculating paths\n",
    "for f in os.listdir(path):\n",
    "    if os.path.splitext(f)[1] == \".tif\":\n",
    "        name = os.path.basename(os.path.splitext(f)[0])\n",
    "        \n",
    "        # Image loading\n",
    "        image = kio.read_image(path+f,channel,x_range=None)\n",
    "        \n",
    "        # Initialising Detector\n",
    "        detector = Detector(half_t_w=5,peak_det_thresh = 2, n_max=10, c_ub=5, c_def=3)\n",
    "\n",
    "        # Detect peaks and track\n",
    "        tracks = detector.detect(image)\n",
    "        \n",
    "        # Step fitting\n",
    "        ksf.fit_steps(tracks,image)\n",
    "\n",
    "        # Saving files\n",
    "        kio.save_overlay(tracks,image,path+name+'_C'+str(channel)+\"_overlay\")\n",
    "        kio.write_change_points(tracks,path+name+'_C'+str(channel)+'_steps')\n",
    "        kio.write_traces(tracks,path+name+'_C'+str(channel)+\"_traces\")\n",
    "        kio.save_plots(tracks,path+name+'_C'+str(channel)+\"_traces\")"
   ]
  },
  {
   "cell_type": "code",
   "execution_count": null,
   "metadata": {},
   "outputs": [],
   "source": []
  }
 ],
 "metadata": {
  "kernelspec": {
   "display_name": "pylake",
   "language": "python",
   "name": "python3"
  },
  "language_info": {
   "codemirror_mode": {
    "name": "ipython",
    "version": 3
   },
   "file_extension": ".py",
   "mimetype": "text/x-python",
   "name": "python",
   "nbconvert_exporter": "python",
   "pygments_lexer": "ipython3",
   "version": "3.10.5"
  },
  "vscode": {
   "interpreter": {
    "hash": "486ff05d83518e025ba7bfd79171561104bf3a51483b9d02eb0981ebbfc72f1c"
   }
  }
 },
 "nbformat": 4,
 "nbformat_minor": 2
}
