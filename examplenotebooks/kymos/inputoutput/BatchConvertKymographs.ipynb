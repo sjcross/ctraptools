{
 "cells": [
  {
   "cell_type": "code",
   "execution_count": 1,
   "id": "suitable-problem",
   "metadata": {},
   "outputs": [
    {
     "name": "stdout",
     "output_type": "stream",
     "text": [
      "Importing 20221104-163248 Kymograph 12.h5\n"
     ]
    }
   ],
   "source": [
    "# Import \n",
    "from ctraptools.kymos.io import batch_save_kymos\n",
    "\n",
    "# Parameters\n",
    "input_path = \"C:/Users/steph/Documents/People/CTrapTools/\"\n",
    "output_path = \"C:/Users/steph/Documents/People/CTrapTools/Output/\"\n",
    "output_range = [(0,21),(0,215),(0,12)] # Set to None for \"raw\" intensities\n",
    "\n",
    "# Running the export\n",
    "batch_save_kymos(input_path,output_path,output_range=output_range)\n"
   ]
  },
  {
   "cell_type": "code",
   "execution_count": null,
   "id": "fa2a1581",
   "metadata": {},
   "outputs": [],
   "source": []
  }
 ],
 "metadata": {
  "kernelspec": {
   "display_name": "Python 3 (ipykernel)",
   "language": "python",
   "name": "python3"
  },
  "language_info": {
   "codemirror_mode": {
    "name": "ipython",
    "version": 3
   },
   "file_extension": ".py",
   "mimetype": "text/x-python",
   "name": "python",
   "nbconvert_exporter": "python",
   "pygments_lexer": "ipython3",
   "version": "3.10.5"
  },
  "vscode": {
   "interpreter": {
    "hash": "486ff05d83518e025ba7bfd79171561104bf3a51483b9d02eb0981ebbfc72f1c"
   }
  }
 },
 "nbformat": 4,
 "nbformat_minor": 5
}
