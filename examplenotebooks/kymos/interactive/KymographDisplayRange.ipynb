{
 "cells": [
  {
   "cell_type": "code",
   "execution_count": null,
   "id": "0c9de9df",
   "metadata": {},
   "outputs": [],
   "source": [
    "%matplotlib widget\n",
    "\n",
    "# Imports\n",
    "import lumicks.pylake as lk\n",
    "\n",
    "from os.path import join\n",
    "from ctraptools.kymos.interactive import DisplayRangeSelector"
   ]
  },
  {
   "cell_type": "code",
   "execution_count": null,
   "id": "821abf1c",
   "metadata": {},
   "outputs": [],
   "source": [
    "# Load the kymograph\n",
    "direc = \"C:/Users/steph/Documents/People/CTrapTools/\"\n",
    "h5_name = '20221104-163248 Kymograph 12.h5'\n",
    "h5_file = lk.File(join(direc, h5_name))\n",
    "\n",
    "kymo_name = list(h5_file.kymos)[0]\n",
    "kymo = h5_file.kymos[kymo_name]"
   ]
  },
  {
   "cell_type": "code",
   "execution_count": null,
   "id": "8ba568f2",
   "metadata": {},
   "outputs": [],
   "source": [
    "# Displaying the display range selector\n",
    "drs = DisplayRangeSelector(kymo)"
   ]
  },
  {
   "cell_type": "code",
   "execution_count": null,
   "id": "88227bd7",
   "metadata": {},
   "outputs": [],
   "source": [
    "# Displaying the chosen intensity range\n",
    "(px_min, px_max) = drs.get_range()\n",
    "print(\"Minimum: \",px_min)\n",
    "print(\"Maximum: \",px_max)"
   ]
  }
 ],
 "metadata": {
  "kernelspec": {
   "display_name": "Python 3 (ipykernel)",
   "language": "python",
   "name": "python3"
  },
  "language_info": {
   "codemirror_mode": {
    "name": "ipython",
    "version": 3
   },
   "file_extension": ".py",
   "mimetype": "text/x-python",
   "name": "python",
   "nbconvert_exporter": "python",
   "pygments_lexer": "ipython3",
   "version": "3.10.5"
  },
  "vscode": {
   "interpreter": {
    "hash": "486ff05d83518e025ba7bfd79171561104bf3a51483b9d02eb0981ebbfc72f1c"
   }
  }
 },
 "nbformat": 4,
 "nbformat_minor": 5
}
